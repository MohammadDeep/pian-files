{
  "cells": [
    {
      "cell_type": "markdown",
      "metadata": {
        "id": "view-in-github",
        "colab_type": "text"
      },
      "source": [
        "<a href=\"https://colab.research.google.com/github/MohammadDeep/pian-file-public/blob/main/1_read_dataset.ipynb\" target=\"_parent\"><img src=\"https://colab.research.google.com/assets/colab-badge.svg\" alt=\"Open In Colab\"/></a>"
      ]
    },
    {
      "cell_type": "markdown",
      "metadata": {
        "id": "rlv4imu08Lm_"
      },
      "source": [
        "# Read data base\n"
      ]
    },
    {
      "cell_type": "code",
      "execution_count": null,
      "metadata": {
        "id": "gQ88LItM-4W5"
      },
      "outputs": [],
      "source": [
        "import numpy as np"
      ]
    },
    {
      "cell_type": "code",
      "execution_count": null,
      "metadata": {
        "id": "mDWd0ioH-SmC"
      },
      "outputs": [],
      "source": [
        "NUMBER_PERSOIN_READ  = 52\n",
        "PATH_FILE = '/content/drive/MyDrive/dataset/PainMoint/extracted_files/PMED/PMHDB/raw-data/'"
      ]
    },
    {
      "cell_type": "code",
      "execution_count": null,
      "metadata": {
        "id": "R9cYmnSA0fm0"
      },
      "outputs": [],
      "source": [
        "import os\n",
        "import pickle\n",
        "\n",
        "def file_have(file_name):\n",
        "  file_path = '/content/drive/MyDrive/dataset/PainMoint/extracted_files/PMED/PMHDB/saved_'+ file_name+ '.pkl'\n",
        "  if os.path.exists(file_path):\n",
        "      return True\n",
        "  else:\n",
        "      return False\n",
        "# prompt: save data = (x,y) in google drive\n",
        "\n",
        "def read_save_file(file_name, file = None , save = False):\n",
        "  # Assuming x and y are already defined as in your provided code\n",
        "  file_path = '/content/drive/MyDrive/dataset/PainMoint/extracted_files/PMED/PMHDB/saved_'+ file_name+ '.pkl'\n",
        "  if (not file_have(file_name)) and (save):\n",
        "  #if 1== 1:\n",
        "    # Specify the file path in Google Drive where you want to save the data\n",
        "\n",
        "\n",
        "    # Save the data to a pickle file\n",
        "    with open(file_path, 'wb') as f:\n",
        "      pickle.dump(file, f)\n",
        "\n",
        "    print(f\"Data saved successfully to {file_path}\")\n",
        "    return file\n",
        "  else:\n",
        "    # Specify the file path in Google Drive where the data is saved\n",
        "\n",
        "\n",
        "    # Load the data from the pickle file\n",
        "    with open(file_path, 'rb') as f:\n",
        "      data = pickle.load(f)\n",
        "      print('Read data .. ')\n",
        "\n",
        "  return data"
      ]
    },
    {
      "cell_type": "markdown",
      "metadata": {
        "id": "8YmvVkUqwxmm"
      },
      "source": [
        "### **توضیح جدول موجود در تصویر**\n",
        "جدول بالا **سه ردیف اول از یک فایل CSV** مربوط به **یک شرکت‌کننده (subject 1) در مجموعه داده PMED** را نمایش می‌دهد. این جدول شامل **داده‌های فیزیولوژیکی ثبت‌شده در آزمایش تجربی درد** است. ستون‌های مختلف این جدول نشان‌دهنده‌ی **سیگنال‌های فیزیولوژیکی اندازه‌گیری‌شده** از فرد مورد آزمایش هستند.\n",
        "\n",
        "---\n",
        "\n",
        "### **۱. توضیح ستون‌های جدول**\n",
        "| **ستون** | **توضیح** |\n",
        "|---|---|\n",
        "| **Seconds** | زمان ثبت هر نمونه بر حسب **ثانیه** (زمان از مقدار ۰.۰۰۰ شروع شده و با فاصله ۰.۰۰۴ ثانیه افزایش می‌یابد، نشان‌دهنده‌ی فرکانس نمونه‌برداری بالا) |\n",
        "| **Bvp** | **Blood Volume Pulse (BVP)** – پالس حجم خون اندازه‌گیری‌شده از دستگاه Empatica E4 (واحد اندازه‌گیری: میلی‌ولت) |\n",
        "| **Eda_E4** | **Electrodermal Activity (EDA) از Empatica E4** – فعالیت الکتریکی پوست، نشان‌دهنده‌ی واکنش سیستم عصبی خودکار به درد |\n",
        "| **Tmp** | **دمای پوست (Temperature)** – دمای سطح پوست در ناحیه اندازه‌گیری‌شده (واحد: درجه سانتی‌گراد) |\n",
        "| **Ibi** | **Inter-Beat Interval (IBI)** – فاصله‌ی بین دو ضربان قلب متوالی (واحد: ثانیه) |\n",
        "| **Hr** | **Heart Rate (HR)** – نرخ ضربان قلب در لحظه‌ی ثبت‌شده (واحد: ضربان در دقیقه) |\n",
        "| **Resp** | **Respiration Rate** – نرخ تنفس فرد (واحد: تغییرات مقاومت بر اثر حرکت قفسه سینه) |\n",
        "| **Eda_RB** | **EDA از دستگاه RespiBAN** – فعالیت الکتریکی پوست ثبت‌شده از دستگاه RespiBAN (مقدار این سنسور ممکن است با EDA_E4 متفاوت باشد) |\n",
        "| **Ecg** | **Electrocardiogram (ECG)** – سیگنال الکتروکاردیوگرام، نشان‌دهنده‌ی فعالیت الکتریکی قلب |\n",
        "| **Emg** | **Electromyography (EMG)** – سیگنال عضلانی ثبت‌شده از ناحیه‌ی مورد بررسی (واحد: میلی‌ولت، مقدار ۰ نشان می‌دهد که عضله در این لحظه فعال نبوده است) |\n",
        "| **Heater [C]** | **دمای محرک حرارتی (Heater Temperature)** – دمای دستگاهی که برای ایجاد درد گرمایی استفاده شده است (واحد: درجه سانتی‌گراد) |\n",
        "| **COVAS** | **Continuous Visual Analog Scale (CoVAS)** – سطح درد گزارش‌شده توسط شرکت‌کننده در مقیاس ۰ تا ۱۰۰ (در این ردیف مقدار ۰ نشان می‌دهد که شرکت‌کننده هنوز دردی احساس نکرده است) |\n",
        "| **Heater_cleaned** | **نسخه‌ی پردازش‌شده‌ی دمای محرک حرارتی** – مقدار **تمیزشده (cleaned)** دمای دستگاه برای **استانداردسازی تحلیل‌ها** (در بازه‌های ۰.۵ درجه‌ای) |\n",
        "\n",
        "---\n",
        "\n",
        "### **۲. تحلیل جدول**\n",
        "📌 **زمان‌بندی داده‌ها**:\n",
        "- داده‌ها با **فاصله‌ی زمانی ۰.۰۰۴ ثانیه** (۴ میلی‌ثانیه) ثبت شده‌اند.\n",
        "- این نشان می‌دهد که فرکانس نمونه‌برداری **۲۵۰ هرتز** بوده است (۱ نمونه در هر ۴ میلی‌ثانیه).\n",
        "\n",
        "📌 **ارتباط داده‌ها با آزمایش درد**:\n",
        "- **دمای محرک حرارتی (Heater [C])** به تدریج افزایش یافته (۳۲.۰۱ → ۳۲.۰۲ → ۳۲.۰۴)، اما هنوز به محدوده‌ی دردناک نرسیده است.\n",
        "- **COVAS** مقدار **۰.۰۰** دارد، یعنی شرکت‌کننده هنوز دردی گزارش نکرده است.\n",
        "- **EMG** مقدار **۰.۰۰** دارد، یعنی هنوز هیچ واکنش عضلانی غیرارادی به درد مشاهده نشده است.\n",
        "\n",
        "---\n",
        "\n",
        "### **۳. نتیجه‌گیری**\n",
        "✅ **این جدول سه نمونه‌ی اولیه از داده‌های فیزیولوژیکی فرد مورد آزمایش را نشان می‌دهد.**  \n",
        "✅ **سنسورها برای بررسی واکنش‌های بدن به درد (ضربان قلب، فعالیت الکتریکی پوست، فعالیت عضلانی و غیره) استفاده شده‌اند.**  \n",
        "✅ **مقدار \"COVAS\" صفر است، به این معنی که در این لحظات فرد هنوز درد را احساس نکرده است.**  \n",
        "✅ **دمای محرک گرمایی در حال افزایش است، اما هنوز در محدوده‌ی دردناک نیست.**  \n",
        "\n",
        "📌 **این داده‌ها در یادگیری ماشین و پردازش سیگنال‌های زیستی برای تشخیص خودکار سطح درد استفاده خواهند شد.**"
      ]
    },
    {
      "cell_type": "code",
      "execution_count": null,
      "metadata": {
        "id": "468ye13_w6_Z"
      },
      "outputs": [],
      "source": [
        "import pandas as pd"
      ]
    },
    {
      "cell_type": "code",
      "execution_count": null,
      "metadata": {
        "colab": {
          "base_uri": "https://localhost:8080/"
        },
        "collapsed": true,
        "id": "wEzk7itUVNkD",
        "outputId": "edd08b9d-ca0b-46ce-832c-9eeba5feebd6"
      },
      "outputs": [
        {
          "output_type": "stream",
          "name": "stdout",
          "text": [
            "persoin  =  01\n",
            "persoin  =  02\n",
            "persoin  =  03\n",
            "persoin  =  04\n",
            "persoin  =  05\n",
            "persoin  =  06\n",
            "persoin  =  07\n",
            "persoin  =  08\n",
            "persoin  =  09\n",
            "persoin  =  10\n",
            "persoin  =  11\n",
            "persoin  =  12\n",
            "persoin  =  13\n",
            "persoin  =  14\n",
            "persoin  =  15\n",
            "persoin  =  16\n",
            "persoin  =  17\n",
            "persoin  =  18\n",
            "persoin  =  19\n",
            "persoin  =  20\n",
            "persoin  =  21\n",
            "persoin  =  22\n",
            "persoin  =  23\n",
            "persoin  =  24\n",
            "persoin  =  25\n",
            "persoin  =  26\n",
            "persoin  =  27\n",
            "persoin  =  28\n",
            "persoin  =  29\n",
            "persoin  =  30\n",
            "persoin  =  31\n",
            "persoin  =  32\n",
            "persoin  =  33\n",
            "persoin  =  34\n",
            "persoin  =  35\n",
            "persoin  =  36\n",
            "persoin  =  37\n",
            "persoin  =  38\n",
            "persoin  =  39\n",
            "persoin  =  40\n",
            "persoin  =  41\n",
            "persoin  =  42\n",
            "persoin  =  43\n",
            "persoin  =  44\n",
            "persoin  =  45\n",
            "persoin  =  46\n",
            "persoin  =  47\n",
            "persoin  =  48\n",
            "persoin  =  49\n",
            "persoin  =  50\n",
            "persoin  =  51\n",
            "persoin  =  52\n"
          ]
        }
      ],
      "source": [
        "\n",
        "PMED = []\n",
        "#if not file_have('PMED'):\n",
        "if 1 == 1:\n",
        "\n",
        "  for i in range(NUMBER_PERSOIN_READ ):\n",
        "    number = str(i+1).zfill(2)\n",
        "    print('persoin  = ',number)\n",
        "    file_path = PATH_FILE + 'S_' + number + '-synchronised-data.csv'\n",
        "    df = pd.read_csv(file_path, sep=';', skipinitialspace=True, engine='python', on_bad_lines='skip')\n",
        "    PMED.append(df)"
      ]
    },
    {
      "cell_type": "code",
      "execution_count": null,
      "metadata": {
        "id": "CjdUzWEzu2EC"
      },
      "outputs": [],
      "source": [
        "\n",
        "list_columns = ['Seconds',\n",
        "                'Bvp',\n",
        "                'Eda_E4',\n",
        "                'Tmp',\n",
        "                'Ibi',\n",
        "                'Hr',\n",
        "                'Resp',\n",
        "                'Eda_RB',\n",
        "                'Ecg',\n",
        "                'Emg',\n",
        "                'Heater [C]',\n",
        "                'COVAS',\n",
        "                'Heater_cleaned']"
      ]
    },
    {
      "cell_type": "code",
      "execution_count": null,
      "metadata": {
        "colab": {
          "base_uri": "https://localhost:8080/"
        },
        "id": "nNf8FZQDkPAJ",
        "outputId": "2f3b3eff-0bd1-4bc9-b52e-d9bee7596b30"
      },
      "outputs": [
        {
          "output_type": "stream",
          "name": "stdout",
          "text": [
            "GPU is available. Using CUDA...\n"
          ]
        }
      ],
      "source": [
        "# prompt: device را مشخص کن\n",
        "\n",
        "import torch\n",
        "\n",
        "if torch.cuda.is_available():\n",
        "  device = torch.device(\"cuda\")\n",
        "  print(\"GPU is available. Using CUDA...\")\n",
        "else:\n",
        "  device = torch.device(\"cpu\")\n",
        "  print(\"GPU is not available. Using CPU...\")\n"
      ]
    },
    {
      "cell_type": "code",
      "source": [
        "# prompt: device را مشخص کن و در وتقییری به نام خودش ذخیره کن\n",
        "\n",
        "device = torch.device(\"cuda\" if torch.cuda.is_available() else \"cpu\")\n",
        "print(f\"Device: {device}\")\n"
      ],
      "metadata": {
        "colab": {
          "base_uri": "https://localhost:8080/"
        },
        "id": "VOx91YvgfMBS",
        "outputId": "5b6bcf8d-d5a2-4b78-c01b-06da88bdf14b"
      },
      "execution_count": null,
      "outputs": [
        {
          "output_type": "stream",
          "name": "stdout",
          "text": [
            "Device: cuda\n"
          ]
        }
      ]
    },
    {
      "cell_type": "code",
      "execution_count": null,
      "metadata": {
        "id": "lppXkAibrroD",
        "colab": {
          "base_uri": "https://localhost:8080/"
        },
        "outputId": "84be4386-4280-49ba-a60f-9a909a168145"
      },
      "outputs": [
        {
          "output_type": "stream",
          "name": "stdout",
          "text": [
            "persoin = 1\n",
            "persoin = 2\n",
            "persoin = 3\n",
            "persoin = 4\n",
            "persoin = 5\n",
            "persoin = 6\n",
            "persoin = 7\n",
            "persoin = 8\n",
            "persoin = 9\n",
            "persoin = 10\n",
            "persoin = 11\n",
            "persoin = 12\n",
            "persoin = 13\n",
            "persoin = 14\n",
            "persoin = 15\n",
            "persoin = 16\n",
            "persoin = 17\n",
            "persoin = 18\n",
            "persoin = 19\n",
            "persoin = 20\n",
            "persoin = 21\n",
            "persoin = 22\n",
            "persoin = 23\n",
            "persoin = 24\n",
            "persoin = 25\n",
            "persoin = 26\n",
            "persoin = 27\n",
            "persoin = 28\n",
            "persoin = 29\n",
            "persoin = 30\n",
            "persoin = 31\n",
            "persoin = 32\n",
            "persoin = 33\n",
            "persoin = 34\n",
            "persoin = 35\n",
            "persoin = 36\n",
            "persoin = 37\n",
            "persoin = 38\n",
            "persoin = 39\n",
            "persoin = 40\n",
            "persoin = 41\n",
            "persoin = 42\n",
            "persoin = 43\n",
            "persoin = 44\n",
            "persoin = 45\n",
            "persoin = 46\n",
            "persoin = 47\n",
            "persoin = 48\n",
            "persoin = 49\n",
            "persoin = 50\n",
            "persoin = 51\n",
            "persoin = 52\n"
          ]
        }
      ],
      "source": [
        "\n",
        "#if not file_have('PMED'):\n",
        "if 1 == 1:\n",
        "  for i in range(NUMBER_PERSOIN_READ ):\n",
        "    print(f'persoin = {i+1}')\n",
        "    for i1 in list_columns:\n",
        "      PMED[i][i1] = PMED[i][i1].str.replace(',', '.').astype(float)\n"
      ]
    },
    {
      "cell_type": "code",
      "execution_count": null,
      "metadata": {
        "id": "gBkghXl-X8x-"
      },
      "outputs": [],
      "source": [
        "mean = [0,-5.57452836e-03,  2.83831880e+00,  3.16676779e+01,74.40159272173095, 102.3069107178842, -3.61099474e-02,  8.45259172e+00, -6.85958206e-05,\n",
        "       -2.93876932e-02,  3.58724597e+01,  6.87175018e+00,  3.56004098e+01]"
      ]
    },
    {
      "cell_type": "code",
      "execution_count": null,
      "metadata": {
        "id": "gfEzQygcW__1"
      },
      "outputs": [],
      "source": [
        "std = [1,32.12908198,  4.81540158,  2.8506348 ,         5.515583660745042,         7.584277493189386,\n",
        "        4.15371255,  3.94901789,  0.18164762,  0.2074808 ,  5.97460527,\n",
        "       19.57083278,  5.9586626 ]"
      ]
    },
    {
      "cell_type": "code",
      "execution_count": null,
      "metadata": {
        "id": "W3xksiVpgL1M"
      },
      "outputs": [],
      "source": [
        "norm_PMED = PMED"
      ]
    },
    {
      "cell_type": "code",
      "execution_count": null,
      "metadata": {
        "id": "P9ydm6I1SBJB",
        "colab": {
          "base_uri": "https://localhost:8080/"
        },
        "outputId": "a5b8b06c-4848-4fe9-e24e-7d99ac129674"
      },
      "outputs": [
        {
          "output_type": "stream",
          "name": "stdout",
          "text": [
            "persoin = 1\n",
            "persoin = 2\n",
            "persoin = 3\n",
            "persoin = 4\n",
            "persoin = 5\n",
            "persoin = 6\n",
            "persoin = 7\n",
            "persoin = 8\n",
            "persoin = 9\n",
            "persoin = 10\n",
            "persoin = 11\n",
            "persoin = 12\n",
            "persoin = 13\n",
            "persoin = 14\n",
            "persoin = 15\n",
            "persoin = 16\n",
            "persoin = 17\n",
            "persoin = 18\n",
            "persoin = 19\n",
            "persoin = 20\n",
            "persoin = 21\n",
            "persoin = 22\n",
            "persoin = 23\n",
            "persoin = 24\n",
            "persoin = 25\n",
            "persoin = 26\n",
            "persoin = 27\n",
            "persoin = 28\n",
            "persoin = 29\n",
            "persoin = 30\n",
            "persoin = 31\n",
            "persoin = 32\n",
            "persoin = 33\n",
            "persoin = 34\n",
            "persoin = 35\n",
            "persoin = 36\n",
            "persoin = 37\n",
            "persoin = 38\n",
            "persoin = 39\n",
            "persoin = 40\n",
            "persoin = 41\n",
            "persoin = 42\n",
            "persoin = 43\n",
            "persoin = 44\n",
            "persoin = 45\n",
            "persoin = 46\n",
            "persoin = 47\n",
            "persoin = 48\n",
            "persoin = 49\n",
            "persoin = 50\n",
            "persoin = 51\n",
            "persoin = 52\n"
          ]
        }
      ],
      "source": [
        "if not file_have('norm_PMED'):\n",
        "  for i in range(NUMBER_PERSOIN_READ):\n",
        "    print(f'persoin = {i+1}')\n",
        "    for i1 in range(13):\n",
        "      norm_PMED[i][list_columns[i1]] = (PMED[i][list_columns[i1]]- mean[i1])/std[i1]\n"
      ]
    },
    {
      "cell_type": "code",
      "execution_count": null,
      "metadata": {
        "id": "jRvdAuZetiIP",
        "colab": {
          "base_uri": "https://localhost:8080/"
        },
        "outputId": "eb0b8f12-e545-4a23-d3a7-f5652ac7b9cc"
      },
      "outputs": [
        {
          "output_type": "stream",
          "name": "stdout",
          "text": [
            "persion 0 is have \n",
            "Seconds             0\n",
            "Bvp                 0\n",
            "Eda_E4              0\n",
            "Tmp                 0\n",
            "Ibi               281\n",
            "Hr                281\n",
            "Resp                0\n",
            "Eda_RB              0\n",
            "Ecg                 0\n",
            "Emg                 0\n",
            "Heater [C]          0\n",
            "COVAS               0\n",
            "Heater_cleaned      0\n",
            "dtype: int64 None\n",
            "persion 3 is have \n",
            "Seconds             0\n",
            "Bvp                 0\n",
            "Eda_E4              0\n",
            "Tmp                 0\n",
            "Ibi               844\n",
            "Hr                844\n",
            "Resp                0\n",
            "Eda_RB              0\n",
            "Ecg                 0\n",
            "Emg                 0\n",
            "Heater [C]          0\n",
            "COVAS               0\n",
            "Heater_cleaned      0\n",
            "dtype: int64 None\n",
            "persion 6 is have \n",
            "Seconds             0\n",
            "Bvp                 0\n",
            "Eda_E4              0\n",
            "Tmp                 0\n",
            "Ibi               310\n",
            "Hr                310\n",
            "Resp                0\n",
            "Eda_RB              0\n",
            "Ecg                 0\n",
            "Emg                 0\n",
            "Heater [C]          0\n",
            "COVAS               0\n",
            "Heater_cleaned      0\n",
            "dtype: int64 None\n",
            "persion 7 is have \n",
            "Seconds             0\n",
            "Bvp                 0\n",
            "Eda_E4              0\n",
            "Tmp                 0\n",
            "Ibi               586\n",
            "Hr                586\n",
            "Resp                0\n",
            "Eda_RB              0\n",
            "Ecg                 0\n",
            "Emg                 0\n",
            "Heater [C]          0\n",
            "COVAS               0\n",
            "Heater_cleaned      0\n",
            "dtype: int64 None\n",
            "persion 9 is have \n",
            "Seconds              0\n",
            "Bvp                  0\n",
            "Eda_E4               0\n",
            "Tmp                  0\n",
            "Ibi               1050\n",
            "Hr                1050\n",
            "Resp                 0\n",
            "Eda_RB               0\n",
            "Ecg                  0\n",
            "Emg                  0\n",
            "Heater [C]           0\n",
            "COVAS                0\n",
            "Heater_cleaned       0\n",
            "dtype: int64 None\n",
            "persion 11 is have \n",
            "Seconds             0\n",
            "Bvp                 0\n",
            "Eda_E4              0\n",
            "Tmp                 0\n",
            "Ibi               838\n",
            "Hr                838\n",
            "Resp                0\n",
            "Eda_RB              0\n",
            "Ecg                 0\n",
            "Emg                 0\n",
            "Heater [C]          0\n",
            "COVAS               0\n",
            "Heater_cleaned      0\n",
            "dtype: int64 None\n",
            "persion 15 is have \n",
            "Seconds            0\n",
            "Bvp                0\n",
            "Eda_E4             0\n",
            "Tmp                0\n",
            "Ibi               98\n",
            "Hr                98\n",
            "Resp               0\n",
            "Eda_RB             0\n",
            "Ecg                0\n",
            "Emg                0\n",
            "Heater [C]         0\n",
            "COVAS              0\n",
            "Heater_cleaned     0\n",
            "dtype: int64 None\n",
            "persion 22 is have \n",
            "Seconds               0\n",
            "Bvp                   0\n",
            "Eda_E4                0\n",
            "Tmp                   0\n",
            "Ibi               77850\n",
            "Hr                77850\n",
            "Resp                  0\n",
            "Eda_RB                0\n",
            "Ecg                   0\n",
            "Emg                   0\n",
            "Heater [C]            0\n",
            "COVAS                 0\n",
            "Heater_cleaned        0\n",
            "dtype: int64 None\n",
            "persion 29 is have \n",
            "Seconds            0\n",
            "Bvp                0\n",
            "Eda_E4             0\n",
            "Tmp                0\n",
            "Ibi               15\n",
            "Hr                15\n",
            "Resp               0\n",
            "Eda_RB             0\n",
            "Ecg                0\n",
            "Emg                0\n",
            "Heater [C]         0\n",
            "COVAS              0\n",
            "Heater_cleaned     0\n",
            "dtype: int64 None\n",
            "persion 31 is have \n",
            "Seconds               0\n",
            "Bvp                   0\n",
            "Eda_E4                0\n",
            "Tmp                   0\n",
            "Ibi               15904\n",
            "Hr                15904\n",
            "Resp                  0\n",
            "Eda_RB                0\n",
            "Ecg                   0\n",
            "Emg                   0\n",
            "Heater [C]            0\n",
            "COVAS                 0\n",
            "Heater_cleaned        0\n",
            "dtype: int64 None\n",
            "persion 35 is have \n",
            "Seconds             0\n",
            "Bvp                 0\n",
            "Eda_E4              0\n",
            "Tmp                 0\n",
            "Ibi               122\n",
            "Hr                122\n",
            "Resp                0\n",
            "Eda_RB              0\n",
            "Ecg                 0\n",
            "Emg                 0\n",
            "Heater [C]          0\n",
            "COVAS               0\n",
            "Heater_cleaned      0\n",
            "dtype: int64 None\n",
            "persion 47 is have \n",
            "Seconds             0\n",
            "Bvp                 0\n",
            "Eda_E4              0\n",
            "Tmp                 0\n",
            "Ibi               274\n",
            "Hr                274\n",
            "Resp                0\n",
            "Eda_RB              0\n",
            "Ecg                 0\n",
            "Emg                 0\n",
            "Heater [C]          0\n",
            "COVAS               0\n",
            "Heater_cleaned      0\n",
            "dtype: int64 None\n",
            "persion 49 is have \n",
            "Seconds             0\n",
            "Bvp                 0\n",
            "Eda_E4              0\n",
            "Tmp                 0\n",
            "Ibi               714\n",
            "Hr                714\n",
            "Resp                0\n",
            "Eda_RB              0\n",
            "Ecg                 0\n",
            "Emg                 0\n",
            "Heater [C]          0\n",
            "COVAS               0\n",
            "Heater_cleaned      0\n",
            "dtype: int64 None\n",
            "persion 50 is have \n",
            "Seconds              0\n",
            "Bvp                  0\n",
            "Eda_E4               0\n",
            "Tmp                  0\n",
            "Ibi               3632\n",
            "Hr                3632\n",
            "Resp                 0\n",
            "Eda_RB               0\n",
            "Ecg                  0\n",
            "Emg                  0\n",
            "Heater [C]           0\n",
            "COVAS                0\n",
            "Heater_cleaned       0\n",
            "dtype: int64 None\n"
          ]
        }
      ],
      "source": [
        "for i in range(len(norm_PMED)):\n",
        "  d = norm_PMED[i]\n",
        "  norm_PMED[i] = norm_PMED[i].dropna()\n",
        "  non_d = d.isna().sum()\n",
        "  # Check if any column has missing values (non_d != 0)\n",
        "  if (non_d != 0).any():\n",
        "    print(f'persion {i} is have \\n{non_d} None')"
      ]
    },
    {
      "cell_type": "code",
      "source": [
        "device"
      ],
      "metadata": {
        "colab": {
          "base_uri": "https://localhost:8080/"
        },
        "id": "aWjYQB-go1z3",
        "outputId": "56561757-6c18-49f0-bd05-a1e01c156972"
      },
      "execution_count": null,
      "outputs": [
        {
          "output_type": "execute_result",
          "data": {
            "text/plain": [
              "device(type='cuda')"
            ]
          },
          "metadata": {},
          "execution_count": 20
        }
      ]
    },
    {
      "cell_type": "code",
      "execution_count": null,
      "metadata": {
        "id": "z8fPHcHm-xvE",
        "colab": {
          "base_uri": "https://localhost:8080/"
        },
        "outputId": "033c73bc-7b0d-4f3b-82f3-17e6311c5da4"
      },
      "outputs": [
        {
          "output_type": "stream",
          "name": "stdout",
          "text": [
            "persion : 0\n",
            "persion : 1\n",
            "persion : 2\n",
            "persion : 3\n",
            "persion : 4\n",
            "persion : 5\n",
            "persion : 6\n",
            "persion : 7\n",
            "persion : 8\n",
            "persion : 9\n",
            "persion : 10\n",
            "persion : 11\n",
            "persion : 12\n",
            "persion : 13\n",
            "persion : 14\n",
            "persion : 15\n",
            "persion : 16\n",
            "persion : 17\n",
            "persion : 18\n",
            "persion : 19\n",
            "persion : 20\n",
            "persion : 21\n",
            "persion : 22\n",
            "persion : 23\n",
            "persion : 24\n",
            "persion : 25\n",
            "persion : 26\n",
            "persion : 27\n",
            "persion : 28\n",
            "persion : 29\n",
            "persion : 30\n",
            "persion : 31\n",
            "persion : 32\n",
            "persion : 33\n",
            "persion : 34\n",
            "persion : 35\n",
            "persion : 36\n",
            "persion : 37\n",
            "persion : 38\n",
            "persion : 39\n",
            "persion : 40\n",
            "persion : 41\n",
            "persion : 42\n",
            "persion : 43\n",
            "persion : 44\n",
            "persion : 45\n",
            "persion : 46\n",
            "persion : 47\n",
            "persion : 48\n",
            "persion : 49\n",
            "persion : 50\n",
            "persion : 51\n"
          ]
        }
      ],
      "source": [
        "import torch\n",
        "x_norm = []\n",
        "y_norm = []\n",
        "#if not file_have('x_norm,y_norm'):\n",
        "if 1 == 1:\n",
        "  for i in range(NUMBER_PERSOIN_READ):\n",
        "    x_n = []\n",
        "    y_n = []\n",
        "    print(f'persion : {i}')\n",
        "    for i1 in range(1, 10):\n",
        "        x_n.append(list(norm_PMED[i][list_columns[i1]]))\n",
        "    x_n1 = torch.tensor(x_n , device = device).T\n",
        "\n",
        "    x_norm.append(x_n1)\n",
        "    for i2 in range(10, 13):\n",
        "        y_n.append(list(norm_PMED[i][list_columns[i2]]))\n",
        "    y_n1 = torch.tensor(y_n , device = device).T\n",
        "    y_norm.append(y_n1)"
      ]
    },
    {
      "cell_type": "code",
      "source": [
        "# prompt: delet '/content/drive/MyDrive/dataset/PainMoint/extracted_files/PMED/PMHDB/saved_x_norm,y_norm.pkl'\n",
        "\n",
        "import os\n",
        "\n",
        "# Specify the file path to delete\n",
        "file_path = '/content/drive/MyDrive/dataset/PainMoint/extracted_files/PMED/PMHDB/saved_x_norm,y_norm.pkl'\n",
        "\n",
        "# Check if the file exists before attempting to delete it\n",
        "if os.path.exists(file_path):\n",
        "  # Delete the file\n",
        "  os.remove(file_path)\n",
        "  print(f\"File '{file_path}' deleted successfully.\")\n",
        "else:\n",
        "  print(f\"File '{file_path}' not found.\")\n"
      ],
      "metadata": {
        "colab": {
          "base_uri": "https://localhost:8080/"
        },
        "id": "iYHy5aazpYLh",
        "outputId": "564805eb-da38-4bbe-9ce6-32119ac17faf"
      },
      "execution_count": null,
      "outputs": [
        {
          "output_type": "stream",
          "name": "stdout",
          "text": [
            "File '/content/drive/MyDrive/dataset/PainMoint/extracted_files/PMED/PMHDB/saved_x_norm,y_norm.pkl' deleted successfully.\n"
          ]
        }
      ]
    },
    {
      "cell_type": "code",
      "source": [
        "# prompt: save file (x_norm,y_norm) in '/content/drive/MyDrive/dataset/PainMoint/extracted_files/PMED/PMHDB/saved_x_norm,y_norm.pkl'\n",
        "\n",
        "x_norm,y_norm = read_save_file('x_norm,y_norm', file = (x_norm,y_norm), save = True)\n"
      ],
      "metadata": {
        "colab": {
          "base_uri": "https://localhost:8080/"
        },
        "id": "U7LPInXrpwqw",
        "outputId": "e56847b5-93d3-454f-ae11-ce4eff98f294"
      },
      "execution_count": null,
      "outputs": [
        {
          "output_type": "stream",
          "name": "stdout",
          "text": [
            "Read data .. \n"
          ]
        }
      ]
    },
    {
      "cell_type": "code",
      "source": [
        "x_norm[0].shape"
      ],
      "metadata": {
        "colab": {
          "base_uri": "https://localhost:8080/"
        },
        "id": "SoMFIE8aYuGw",
        "outputId": "3474d4ed-5980-4114-e248-2f28386bd933"
      },
      "execution_count": null,
      "outputs": [
        {
          "output_type": "execute_result",
          "data": {
            "text/plain": [
              "torch.Size([362620, 9])"
            ]
          },
          "metadata": {},
          "execution_count": 33
        }
      ]
    }
  ],
  "metadata": {
    "accelerator": "GPU",
    "colab": {
      "gpuType": "T4",
      "provenance": [],
      "mount_file_id": "14VXZ_4Y_Ig_hMSH48eWUWSPw86G2Ec_R",
      "authorship_tag": "ABX9TyPkC0a7fr1eqiGrz3gPR88R",
      "include_colab_link": true
    },
    "kernelspec": {
      "display_name": "Python 3",
      "name": "python3"
    },
    "language_info": {
      "name": "python"
    }
  },
  "nbformat": 4,
  "nbformat_minor": 0
}