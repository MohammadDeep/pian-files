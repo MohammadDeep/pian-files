{
  "nbformat": 4,
  "nbformat_minor": 0,
  "metadata": {
    "colab": {
      "provenance": [],
      "machine_shape": "hm",
      "gpuType": "T4",
      "authorship_tag": "ABX9TyN73vB21MUaFftmvUWedrnr",
      "include_colab_link": true
    },
    "kernelspec": {
      "name": "python3",
      "display_name": "Python 3"
    },
    "language_info": {
      "name": "python"
    },
    "accelerator": "GPU"
  },
  "cells": [
    {
      "cell_type": "markdown",
      "metadata": {
        "id": "view-in-github",
        "colab_type": "text"
      },
      "source": [
        "<a href=\"https://colab.research.google.com/github/MohammadDeep/pian-file-public/blob/main/3_1_dataloader.ipynb\" target=\"_parent\"><img src=\"https://colab.research.google.com/assets/colab-badge.svg\" alt=\"Open In Colab\"/></a>"
      ]
    },
    {
      "cell_type": "code",
      "source": [
        "from google.colab import drive\n",
        "drive.mount('/content/drive')"
      ],
      "metadata": {
        "colab": {
          "base_uri": "https://localhost:8080/"
        },
        "id": "m2VOXC32-nvq",
        "outputId": "e78cac7a-ec05-46bc-839d-0cc82a393028"
      },
      "execution_count": null,
      "outputs": [
        {
          "output_type": "stream",
          "name": "stdout",
          "text": [
            "Mounted at /content/drive\n"
          ]
        }
      ]
    },
    {
      "cell_type": "code",
      "source": [
        "# مسیر فایل‌ها\n",
        "file_path1 = '/content/drive/MyDrive/dataset/PainMoint/extracted_files/PMED/PMHDB/saved_x_norm,y_norm.pkl'\n",
        "file_path2 = '/content/drive/MyDrive/dataset/PainMoint/extracted_files/PMED/PMHDB/y_data_have_pain_clear.pkl'\n",
        "save_path = '/content/drive/MyDrive/dataset/PainMoint/extracted_files/PMED/PMHDB/y_scali_1000.pkl'"
      ],
      "metadata": {
        "id": "jNvJa7rA_5z6"
      },
      "execution_count": null,
      "outputs": []
    },
    {
      "cell_type": "code",
      "execution_count": null,
      "metadata": {
        "id": "tXyGPhQo-csd"
      },
      "outputs": [],
      "source": [
        "\n",
        "import os\n",
        "import pickle\n",
        "\n",
        "\n",
        "\n",
        "\n",
        "\n",
        "def load_pickle(file_path):\n",
        "    if os.path.exists(file_path):\n",
        "        with open(file_path, 'rb') as f:\n",
        "            return pickle.load(f)\n",
        "    else:\n",
        "        print(\"فایل یافت نشد:\", file_path)\n",
        "        return None\n",
        "\n",
        "# بارگذاری فایل‌ها\n",
        "x_norm,y_norm = load_pickle(file_path1)\n",
        "y_data_have_pain_clear = load_pickle(file_path2)\n",
        "\n",
        "\n"
      ]
    },
    {
      "cell_type": "code",
      "source": [
        "y_data_have_pain_clear[0][:,1].shape"
      ],
      "metadata": {
        "colab": {
          "base_uri": "https://localhost:8080/"
        },
        "id": "kYtLowiTCUEN",
        "outputId": "3e36f488-3a64-4294-c912-25c38c669914"
      },
      "execution_count": null,
      "outputs": [
        {
          "output_type": "execute_result",
          "data": {
            "text/plain": [
              "torch.Size([362620])"
            ]
          },
          "metadata": {},
          "execution_count": 9
        }
      ]
    },
    {
      "cell_type": "code",
      "source": [
        "# prompt: device را پیدا کن و درمتقیری به نام device بریز\n",
        "import torch\n",
        "device = torch.device(\"cuda\" if torch.cuda.is_available() else \"cpu\")\n",
        "print(device)"
      ],
      "metadata": {
        "colab": {
          "base_uri": "https://localhost:8080/"
        },
        "id": "h5iDXZezD3EE",
        "outputId": "11d273a9-976d-437c-d7b4-f0e61d851546"
      },
      "execution_count": null,
      "outputs": [
        {
          "output_type": "stream",
          "name": "stdout",
          "text": [
            "cuda\n"
          ]
        }
      ]
    },
    {
      "cell_type": "code",
      "source": [
        "# prompt: sort y_data_have_pain_clear[0][:,1]\n",
        "import torch\n",
        "sorted_y_data = torch.tensor(sorted(y_data_have_pain_clear[0][:, 1]), device =device)\n",
        "\n",
        "sorted_y_data[-2]\n"
      ],
      "metadata": {
        "colab": {
          "base_uri": "https://localhost:8080/"
        },
        "id": "zRIDxAyACQ1g",
        "outputId": "7ee266b4-f243-4373-f7ce-4a00bb2f80aa"
      },
      "execution_count": null,
      "outputs": [
        {
          "output_type": "execute_result",
          "data": {
            "text/plain": [
              "tensor(4.2476, device='cuda:0')"
            ]
          },
          "metadata": {},
          "execution_count": 12
        }
      ]
    },
    {
      "cell_type": "code",
      "source": [
        "# prompt: میانگین sorted_y_data[-2]\n",
        "\n",
        "mean_second_to_last = torch.mean(sorted_y_data[:])\n",
        "mean_second_to_last\n"
      ],
      "metadata": {
        "colab": {
          "base_uri": "https://localhost:8080/"
        },
        "id": "Y-UIJwD5DH0y",
        "outputId": "0864f19e-29f9-4417-fbe6-7b773fae3671"
      },
      "execution_count": null,
      "outputs": [
        {
          "output_type": "execute_result",
          "data": {
            "text/plain": [
              "tensor(-0.1128, device='cuda:0')"
            ]
          },
          "metadata": {},
          "execution_count": 13
        }
      ]
    },
    {
      "cell_type": "code",
      "source": [
        "import matplotlib.pyplot as plt\n",
        "import torch\n",
        "def scali_label(label , scale = 100, n = 0.2, show_plot = False):\n",
        "  len_label = label.shape[0]\n",
        "  new_label = []\n",
        "  for i in (range(int(len_label//scale))):\n",
        "    #print(f' {i//scale} / {len_label// scale}')\n",
        "    data = label[i*scale:(i+1)*scale]\n",
        "    sorted_y_data = torch.tensor(sorted(data), device =device)\n",
        "    nd = int(-1 * n * scale)\n",
        "    mean_second_to_last = torch.mean(sorted_y_data[nd:])\n",
        "    new_label.append(mean_second_to_last.cpu())\n",
        "  if show_plot:\n",
        "    new_list = []\n",
        "    for i in new_label:\n",
        "      for i1 in range(scale):\n",
        "        new_list.append(i)\n",
        "    plt.figure(figsize=(100, 5))\n",
        "    plt.plot(new_list , label = 'new')\n",
        "    plt.plot(label.cpu(), label = \"orj\")\n",
        "    plt.show()\n",
        "  return new_label\n",
        "\n",
        "def y_scali_all(y_data, scale , n ,signal_number = [2,3]):\n",
        "  len_persion = len(y_data)\n",
        "  new_data = []\n",
        "  for i in range(len_persion):\n",
        "    print(f'persion : {i + 1}')\n",
        "    signales = y_data[i]\n",
        "    len_signal = signales.shape[1]\n",
        "    data_n = []\n",
        "    for i1 in signal_number:\n",
        "      print(f'  signal : {i1 + 1}')\n",
        "      data_n.append(scali_label(signales[:, i1] , scale , n , show_plot = False))\n",
        "    tensor_n = torch.tensor(data_n, device = device)\n",
        "    new_data.append(tensor_n)\n",
        "\n",
        "  return new_data"
      ],
      "metadata": {
        "id": "IP6NUA76APFw"
      },
      "execution_count": null,
      "outputs": []
    },
    {
      "cell_type": "code",
      "source": [
        "y_data_have_pain_clear[0].shape[1]"
      ],
      "metadata": {
        "colab": {
          "base_uri": "https://localhost:8080/"
        },
        "id": "r6r2_aijJX50",
        "outputId": "a990bf7d-7d26-44c1-b262-6cf8e8e0f850"
      },
      "execution_count": null,
      "outputs": [
        {
          "output_type": "execute_result",
          "data": {
            "text/plain": [
              "4"
            ]
          },
          "metadata": {},
          "execution_count": 15
        }
      ]
    },
    {
      "cell_type": "code",
      "source": [
        "y_scali_1000 = y_scali_all(y_data =y_data_have_pain_clear , scale = 1000 , n = 0.1 )"
      ],
      "metadata": {
        "colab": {
          "base_uri": "https://localhost:8080/"
        },
        "id": "X60vTf8nKf9K",
        "outputId": "aa94c78b-2a96-40a5-e54d-06d3c3dafd95"
      },
      "execution_count": null,
      "outputs": [
        {
          "output_type": "stream",
          "name": "stdout",
          "text": [
            "persion : 1\n",
            "  signal : 3/2\n",
            "  signal : 4/2\n",
            "persion : 2\n",
            "  signal : 3/2\n",
            "  signal : 4/2\n",
            "persion : 3\n",
            "  signal : 3/2\n",
            "  signal : 4/2\n",
            "persion : 4\n",
            "  signal : 3/2\n",
            "  signal : 4/2\n",
            "persion : 5\n",
            "  signal : 3/2\n",
            "  signal : 4/2\n",
            "persion : 6\n",
            "  signal : 3/2\n",
            "  signal : 4/2\n",
            "persion : 7\n",
            "  signal : 3/2\n",
            "  signal : 4/2\n",
            "persion : 8\n",
            "  signal : 3/2\n",
            "  signal : 4/2\n",
            "persion : 9\n",
            "  signal : 3/2\n",
            "  signal : 4/2\n",
            "persion : 10\n",
            "  signal : 3/2\n",
            "  signal : 4/2\n",
            "persion : 11\n",
            "  signal : 3/2\n",
            "  signal : 4/2\n",
            "persion : 12\n",
            "  signal : 3/2\n",
            "  signal : 4/2\n",
            "persion : 13\n",
            "  signal : 3/2\n",
            "  signal : 4/2\n",
            "persion : 14\n",
            "  signal : 3/2\n",
            "  signal : 4/2\n",
            "persion : 15\n",
            "  signal : 3/2\n",
            "  signal : 4/2\n",
            "persion : 16\n",
            "  signal : 3/2\n",
            "  signal : 4/2\n",
            "persion : 17\n",
            "  signal : 3/2\n",
            "  signal : 4/2\n",
            "persion : 18\n",
            "  signal : 3/2\n",
            "  signal : 4/2\n",
            "persion : 19\n",
            "  signal : 3/2\n",
            "  signal : 4/2\n",
            "persion : 20\n",
            "  signal : 3/2\n",
            "  signal : 4/2\n",
            "persion : 21\n",
            "  signal : 3/2\n",
            "  signal : 4/2\n",
            "persion : 22\n",
            "  signal : 3/2\n",
            "  signal : 4/2\n",
            "persion : 23\n",
            "  signal : 3/2\n",
            "  signal : 4/2\n",
            "persion : 24\n",
            "  signal : 3/2\n",
            "  signal : 4/2\n",
            "persion : 25\n",
            "  signal : 3/2\n",
            "  signal : 4/2\n",
            "persion : 26\n",
            "  signal : 3/2\n",
            "  signal : 4/2\n",
            "persion : 27\n",
            "  signal : 3/2\n",
            "  signal : 4/2\n",
            "persion : 28\n",
            "  signal : 3/2\n",
            "  signal : 4/2\n",
            "persion : 29\n",
            "  signal : 3/2\n",
            "  signal : 4/2\n",
            "persion : 30\n",
            "  signal : 3/2\n",
            "  signal : 4/2\n",
            "persion : 31\n",
            "  signal : 3/2\n",
            "  signal : 4/2\n",
            "persion : 32\n",
            "  signal : 3/2\n",
            "  signal : 4/2\n",
            "persion : 33\n",
            "  signal : 3/2\n",
            "  signal : 4/2\n",
            "persion : 34\n",
            "  signal : 3/2\n",
            "  signal : 4/2\n",
            "persion : 35\n",
            "  signal : 3/2\n",
            "  signal : 4/2\n",
            "persion : 36\n",
            "  signal : 3/2\n",
            "  signal : 4/2\n",
            "persion : 37\n",
            "  signal : 3/2\n",
            "  signal : 4/2\n",
            "persion : 38\n",
            "  signal : 3/2\n",
            "  signal : 4/2\n",
            "persion : 39\n",
            "  signal : 3/2\n",
            "  signal : 4/2\n",
            "persion : 40\n",
            "  signal : 3/2\n",
            "  signal : 4/2\n",
            "persion : 41\n",
            "  signal : 3/2\n",
            "  signal : 4/2\n",
            "persion : 42\n",
            "  signal : 3/2\n",
            "  signal : 4/2\n",
            "persion : 43\n",
            "  signal : 3/2\n",
            "  signal : 4/2\n",
            "persion : 44\n",
            "  signal : 3/2\n",
            "  signal : 4/2\n",
            "persion : 45\n",
            "  signal : 3/2\n",
            "  signal : 4/2\n",
            "persion : 46\n",
            "  signal : 3/2\n",
            "  signal : 4/2\n",
            "persion : 47\n",
            "  signal : 3/2\n",
            "  signal : 4/2\n",
            "persion : 48\n",
            "  signal : 3/2\n",
            "  signal : 4/2\n",
            "persion : 49\n",
            "  signal : 3/2\n",
            "  signal : 4/2\n",
            "persion : 50\n",
            "  signal : 3/2\n",
            "  signal : 4/2\n",
            "persion : 51\n",
            "  signal : 3/2\n",
            "  signal : 4/2\n",
            "persion : 52\n",
            "  signal : 3/2\n",
            "  signal : 4/2\n"
          ]
        }
      ]
    },
    {
      "cell_type": "code",
      "source": [
        "d  = scali_label(y_data_have_pain_clear[0][:, 2] , scale = 1000, n = 0.1, show_plot = True)"
      ],
      "metadata": {
        "colab": {
          "base_uri": "https://localhost:8080/",
          "height": 465
        },
        "id": "RX7Yr-B3GgG4",
        "outputId": "9d07f5ae-4ff6-4ebe-dc90-12dad507463f"
      },
      "execution_count": null,
      "outputs": [
        {
          "output_type": "display_data",
          "data": {
            "text/plain": [
              "<Figure size 10000x500 with 1 Axes>"
            ],
            "image/png": "[encoded data removed]"
          },
          "metadata": {}
        }
      ]
    },
    {
      "cell_type": "code",
      "source": [
        "y_scali_1000[0].T.shape, y_data_have_pain_clear[0].shape"
      ],
      "metadata": {
        "colab": {
          "base_uri": "https://localhost:8080/"
        },
        "id": "ZgvRyib-Mt20",
        "outputId": "c084597d-93a5-4494-a9b0-843001fe583f"
      },
      "execution_count": null,
      "outputs": [
        {
          "data": {
            "text/plain": [
              "(torch.Size([363, 2]), torch.Size([362620, 4]))"
            ]
          },
          "execution_count": 21,
          "metadata": {},
          "output_type": "execute_result"
        }
      ]
    },
    {
      "cell_type": "code",
      "source": [
        "new_scali_1000 = []\n",
        "for i in y_scali_1000:\n",
        "  new_scali_1000.append(i.T)"
      ],
      "metadata": {
        "id": "Q5e-T4kxNeQZ"
      },
      "execution_count": null,
      "outputs": []
    },
    {
      "cell_type": "code",
      "source": [
        "new_scali_1000[10].shape"
      ],
      "metadata": {
        "colab": {
          "base_uri": "https://localhost:8080/"
        },
        "id": "XB5ArOkfNqm0",
        "outputId": "fce4e35b-7ea7-4110-a08a-8d2316671a99"
      },
      "execution_count": null,
      "outputs": [
        {
          "output_type": "execute_result",
          "data": {
            "text/plain": [
              "torch.Size([365, 2])"
            ]
          },
          "metadata": {},
          "execution_count": 24
        }
      ]
    },
    {
      "cell_type": "code",
      "source": [
        "# prompt: save file 'y_scali_1000'\n",
        "\n",
        "from google.colab import drive\n",
        "import os\n",
        "import pickle\n",
        "import torch\n",
        "import matplotlib.pyplot as plt\n",
        "\n",
        "# Save y_scali_1000 to a file\n",
        "with open(save_path, 'wb') as f:\n",
        "  pickle.dump(new_scali_1000, f)\n"
      ],
      "metadata": {
        "id": "40uV0Wu4Gmq1"
      },
      "execution_count": null,
      "outputs": []
    },
    {
      "cell_type": "code",
      "source": [],
      "metadata": {
        "id": "-HD-22qxN3HB"
      },
      "execution_count": null,
      "outputs": []
    }
  ]
}