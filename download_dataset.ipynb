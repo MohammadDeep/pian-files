{
  "nbformat": 4,
  "nbformat_minor": 0,
  "metadata": {
    "colab": {
      "provenance": [],
      "machine_shape": "hm",
      "gpuType": "T4",
      "authorship_tag": "ABX9TyMUE22DqPCQM2dwCPabYl09",
      "include_colab_link": true
    },
    "kernelspec": {
      "name": "python3",
      "display_name": "Python 3"
    },
    "language_info": {
      "name": "python"
    },
    "accelerator": "GPU"
  },
  "cells": [
    {
      "cell_type": "markdown",
      "metadata": {
        "id": "view-in-github",
        "colab_type": "text"
      },
      "source": [
        "<a href=\"https://colab.research.google.com/github/MohammadDeep/pian-file-public/blob/main/download_dataset.ipynb\" target=\"_parent\"><img src=\"https://colab.research.google.com/assets/colab-badge.svg\" alt=\"Open In Colab\"/></a>"
      ]
    },
    {
      "cell_type": "code",
      "source": [
        "save_directory = '/content/'"
      ],
      "metadata": {
        "id": "ETyVo9L8kUor"
      },
      "execution_count": null,
      "outputs": []
    },
    {
      "cell_type": "code",
      "source": [
        "# prompt: فایل های زیر را نیز از حالت فشورده خارج کن\n",
        "# /content/extracted_files/PMED.zip\n",
        "# /content/extracted_files/PMCD.zip\n",
        "\n",
        "import requests\n",
        "import os\n",
        "import zipfile\n",
        "\n",
        "\n",
        "\n",
        "\n",
        "# URL of the file to download\n",
        "url = 'https://figshare.com/ndownloader/articles/26965159/versions/3'\n",
        "\n",
        "# Specify the local directory where you want to save the file\n",
        " # You can change this to your desired directory\n",
        "\n",
        "# Create the directory if it doesn't exist\n",
        "os.makedirs(save_directory, exist_ok=True)\n",
        "\n",
        "# Construct the local file path\n",
        "local_filename = os.path.join(save_directory, 'downloaded_file.zip')\n",
        "\n",
        "# Download the file\n",
        "try:\n",
        "    response = requests.get(url, stream=True)\n",
        "    response.raise_for_status()  # Raise an exception for bad status codes\n",
        "\n",
        "    with open(local_filename, 'wb') as f:\n",
        "        for chunk in response.iter_content(chunk_size=8192):\n",
        "            f.write(chunk)\n",
        "\n",
        "    print(f\"File downloaded successfully to: {local_filename}\")\n",
        "\n",
        "except requests.exceptions.RequestException as e:\n",
        "    print(f\"An error occurred while downloading the file: {e}\")\n",
        "\n",
        "\n",
        "\n",
        "\n",
        "# مسیر فایل فشرده\n",
        "zip_file_path = save_directory + 'downloaded_file.zip'\n",
        "\n",
        "# مسیر پوشه ای که می خواهید فایل ها در آن استخراج شوند\n",
        "extract_directory = save_directory + 'extracted_files'\n",
        "\n",
        "# ایجاد پوشه استخراج اگر وجود نداشته باشد\n",
        "os.makedirs(extract_directory, exist_ok=True)\n",
        "\n",
        "# باز کردن فایل فشرده\n",
        "with zipfile.ZipFile(zip_file_path, 'r') as zip_ref:\n",
        "    # استخراج تمام فایل ها در پوشه مشخص شده\n",
        "    zip_ref.extractall(extract_directory)\n",
        "\n",
        "print(f\"فایل ها با موفقیت در {extract_directory} استخراج شدند.\")\n",
        "\n",
        "\n",
        "def extract_zip(zip_file_path, extract_directory):\n",
        "  \"\"\"\n",
        "  استخراج فایل های فشرده zip\n",
        "  \"\"\"\n",
        "  os.makedirs(extract_directory, exist_ok=True)\n",
        "  with zipfile.ZipFile(zip_file_path, 'r') as zip_ref:\n",
        "    zip_ref.extractall(extract_directory)\n",
        "  print(f\"فایل ها با موفقیت در {extract_directory} استخراج شدند.\")\n",
        "\n",
        "# مسیر فایل های فشرده\n",
        "zip_file_path1 = save_directory + 'extracted_files/PMED.zip'\n",
        "zip_file_path2 = save_directory + 'extracted_files/PMCD.zip'\n",
        "\n",
        "# مسیر پوشه ای که می خواهید فایل ها در آن استخراج شوند\n",
        "extract_directory1 = save_directory + 'extracted_files/PMED'\n",
        "extract_directory2 = save_directory + 'extracted_files/PMCD'\n",
        "\n",
        "# استخراج فایل ها\n",
        "extract_zip(zip_file_path1, extract_directory1)\n",
        "extract_zip(zip_file_path2, extract_directory2)\n"
      ],
      "metadata": {
        "colab": {
          "base_uri": "https://localhost:8080/"
        },
        "id": "uVgwSTAlibQ_",
        "outputId": "d5d6a64c-b52a-4f55-eb10-b5474bf04387"
      },
      "execution_count": 3,
      "outputs": [
        {
          "output_type": "stream",
          "name": "stdout",
          "text": [
            "File downloaded successfully to: /content/downloaded_file.zip\n",
            "فایل ها با موفقیت در /content/extracted_files استخراج شدند.\n",
            "فایل ها با موفقیت در /content/extracted_files/PMED استخراج شدند.\n",
            "فایل ها با موفقیت در /content/extracted_files/PMCD استخراج شدند.\n"
          ]
        }
      ]
    }
  ]
}