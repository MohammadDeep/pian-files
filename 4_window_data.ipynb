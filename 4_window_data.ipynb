{
  "nbformat": 4,
  "nbformat_minor": 0,
  "metadata": {
    "colab": {
      "provenance": [],
      "machine_shape": "hm",
      "gpuType": "L4",
      "authorship_tag": "ABX9TyOCBGtd01MyqDSBE/xz13hC",
      "include_colab_link": true
    },
    "kernelspec": {
      "name": "python3",
      "display_name": "Python 3"
    },
    "language_info": {
      "name": "python"
    },
    "accelerator": "GPU"
  },
  "cells": [
    {
      "cell_type": "markdown",
      "metadata": {
        "id": "view-in-github",
        "colab_type": "text"
      },
      "source": [
        "<a href=\"https://colab.research.google.com/github/MohammadDeep/pian-file-public/blob/main/4_window_data.ipynb\" target=\"_parent\"><img src=\"https://colab.research.google.com/assets/colab-badge.svg\" alt=\"Open In Colab\"/></a>"
      ]
    },
    {
      "cell_type": "code",
      "source": [
        "file_path1 = '/content/drive/MyDrive/dataset/PainMoint/extracted_files/PMED/PMHDB/saved_x_norm,y_norm.pkl'\n",
        "file_path = '/content/drive/MyDrive/dataset/PainMoint/extracted_files/PMED/PMHDB/y_scali_1000.pkl'\n",
        "scali = 1000\n",
        "save_path = '/content/drive/MyDrive/dataset/PainMoint/extracted_files/PMED/PMHDB/windowed_data_window30S_step5S.pkl'"
      ],
      "metadata": {
        "id": "kTQpn_WYoIx6"
      },
      "execution_count": 11,
      "outputs": []
    },
    {
      "cell_type": "code",
      "source": [
        "import torch\n",
        "\n",
        "if torch.cuda.is_available():\n",
        "  device = torch.device(\"cuda\")\n",
        "  print(\"GPU is available. Using CUDA...\")\n",
        "else:\n",
        "  device = torch.device(\"cpu\")\n",
        "  print(\"GPU is not available. Using CPU...\")\n",
        "device = torch.device(\"cuda\" if torch.cuda.is_available() else \"cpu\")\n",
        "print(f\"Device: {device}\")"
      ],
      "metadata": {
        "colab": {
          "base_uri": "https://localhost:8080/"
        },
        "id": "1CQtD_Vgt-tf",
        "outputId": "959d7a93-10f8-420f-c27d-d3a2e3f53676"
      },
      "execution_count": 12,
      "outputs": [
        {
          "output_type": "stream",
          "name": "stdout",
          "text": [
            "GPU is available. Using CUDA...\n",
            "Device: cuda\n"
          ]
        }
      ]
    },
    {
      "cell_type": "code",
      "source": [
        "device = torch.device(\"cuda\" if torch.cuda.is_available() else \"cpu\")\n",
        "print(f\"Device: {device}\")"
      ],
      "metadata": {
        "colab": {
          "base_uri": "https://localhost:8080/"
        },
        "id": "_sbEvhwNttty",
        "outputId": "d066fb6a-2a82-4bd1-e03a-d861ba9db521"
      },
      "execution_count": 13,
      "outputs": [
        {
          "output_type": "stream",
          "name": "stdout",
          "text": [
            "Device: cuda\n"
          ]
        }
      ]
    },
    {
      "cell_type": "code",
      "source": [
        "# prompt: read fiile '/content/drive/MyDrive/dataset/PainMoint/extracted_files/PMED/PMHDB/saved_x_norm,y_norm.pkl'\n",
        "\n",
        "import pickle\n",
        "\n",
        "\n",
        "\n",
        "\n",
        "try:\n",
        "  with open(file_path1, 'rb') as f:\n",
        "    data = pickle.load(f)\n",
        "    print('read ')  # Or process the loaded data as needed\n",
        "except FileNotFoundError:\n",
        "  print(f\"File not found: {file_path1}\")\n",
        "except Exception as e:\n",
        "  print(f\"Error loading file: {e}\")\n"
      ],
      "metadata": {
        "colab": {
          "base_uri": "https://localhost:8080/"
        },
        "id": "tAjIyjlPaPZh",
        "outputId": "5f09eaad-2a0f-4cfb-e307-4568948b2161"
      },
      "execution_count": 18,
      "outputs": [
        {
          "output_type": "stream",
          "name": "stdout",
          "text": [
            "File not found: /content/drive/MyDrive/dataset/PainMoint/extracted_files/PMED/PMHDB/saved_x_norm,y_norm.pkl\n"
          ]
        }
      ]
    },
    {
      "cell_type": "code",
      "execution_count": 19,
      "metadata": {
        "id": "J0YQuPTwY8Z-",
        "colab": {
          "base_uri": "https://localhost:8080/",
          "height": 141
        },
        "outputId": "c97dddc1-0b8d-4250-804d-8aa6d0f53385"
      },
      "outputs": [
        {
          "output_type": "error",
          "ename": "NameError",
          "evalue": "name 'data' is not defined",
          "traceback": [
            "\u001b[0;31m---------------------------------------------------------------------------\u001b[0m",
            "\u001b[0;31mNameError\u001b[0m                                 Traceback (most recent call last)",
            "\u001b[0;32m<ipython-input-19-c125d7adb4ad>\u001b[0m in \u001b[0;36m<cell line: 0>\u001b[0;34m()\u001b[0m\n\u001b[0;32m----> 1\u001b[0;31m \u001b[0mx_norm\u001b[0m\u001b[0;34m,\u001b[0m\u001b[0m_\u001b[0m \u001b[0;34m=\u001b[0m \u001b[0mdata\u001b[0m\u001b[0;34m\u001b[0m\u001b[0;34m\u001b[0m\u001b[0m\n\u001b[0m",
            "\u001b[0;31mNameError\u001b[0m: name 'data' is not defined"
          ]
        }
      ],
      "source": [
        "x_norm,_ = data"
      ]
    },
    {
      "cell_type": "code",
      "source": [
        "\n",
        "\n",
        "\n",
        "try:\n",
        "  with open(file_path, 'rb') as f:\n",
        "    y_norm = pickle.load(f)\n",
        "    print('read ')  # Or process the loaded data as needed\n",
        "except FileNotFoundError:\n",
        "  print(f\"File not found: {file_path}\")\n",
        "except Exception as e:\n",
        "  print(f\"Error loading file: {e}\")"
      ],
      "metadata": {
        "colab": {
          "base_uri": "https://localhost:8080/"
        },
        "id": "DCEKANOfQzJK",
        "outputId": "c5b0700b-4833-409f-dfba-233d74be0d6a"
      },
      "execution_count": 15,
      "outputs": [
        {
          "output_type": "stream",
          "name": "stdout",
          "text": [
            "File not found: /content/drive/MyDrive/dataset/PainMoint/extracted_files/PMED/PMHDB/y_scali_1000.pkl\n"
          ]
        }
      ]
    },
    {
      "cell_type": "code",
      "source": [
        "import torch\n",
        "torch.cuda.is_available()"
      ],
      "metadata": {
        "colab": {
          "base_uri": "https://localhost:8080/"
        },
        "id": "IhXPz6-xa3Vi",
        "outputId": "5f3211e4-30b1-4da2-a8f5-88d9ce2f5523"
      },
      "execution_count": 16,
      "outputs": [
        {
          "output_type": "execute_result",
          "data": {
            "text/plain": [
              "True"
            ]
          },
          "metadata": {},
          "execution_count": 16
        }
      ]
    },
    {
      "cell_type": "code",
      "source": [
        "x_test,x_dav, x_train = x_norm[:10], x_norm[10:15], x_norm[15:]\n",
        "y_test,y_dav, y_train = y_norm[:10], y_norm[10:15], y_norm[15:]"
      ],
      "metadata": {
        "id": "sCyEittkyPW-"
      },
      "execution_count": null,
      "outputs": []
    },
    {
      "cell_type": "code",
      "source": [
        "def window_data(data, window, step):\n",
        "  len_data = len(data)\n",
        "  new_data = []\n",
        "  for i in range(len_data):\n",
        "    print(f'persion : {i + 1}/{len_data}')\n",
        "    data1 = data[i]\n",
        "    len_data1 = data1.shape[0]\n",
        "    n = (len_data1 - window) // step + 1\n",
        "    for i1 in range(n):\n",
        "      new_data.append(torch.tensor(data1[i1*step:i1*step+window], device = device).tolist())\n",
        "\n",
        "\n",
        "  return new_data\n",
        "WINDOW_SIZE = scali\n",
        "STEP = scali\n",
        "window_x_test = window_data(x_test, WINDOW_SIZE, STEP)\n",
        "window_y_test = window_data(y_test, 1, 1)\n",
        "window_x_dav = window_data(x_dav, WINDOW_SIZE, STEP)\n",
        "window_y_dav = window_data(y_dav, 1, 1)\n",
        "window_x_train = window_data(x_train,WINDOW_SIZE, STEP)\n",
        "window_y_train = window_data(y_train, 1, 1)"
      ],
      "metadata": {
        "id": "TwCybsZMrRv1"
      },
      "execution_count": null,
      "outputs": []
    },
    {
      "cell_type": "code",
      "source": [
        "import torch\n",
        "\n",
        "# آزادسازی حافظه‌ی کش GPU\n",
        "torch.cuda.empty_cache()\n"
      ],
      "metadata": {
        "id": "kUegc4RuwETK"
      },
      "execution_count": null,
      "outputs": []
    },
    {
      "cell_type": "code",
      "source": [
        "window_x_train = torch.tensor(window_x_train, device = device)\n",
        "window_y_train = torch.tensor(window_y_train, device = device)\n",
        "window_x_dav = torch.tensor(window_x_dav, device = device)\n",
        "window_y_dav = torch.tensor(window_y_dav, device = device)\n",
        "window_x_test = torch.tensor(window_x_test, device = device)\n",
        "window_y_test = torch.tensor(window_y_test, device = device)"
      ],
      "metadata": {
        "id": "I_Pv9xPLtd3-"
      },
      "execution_count": null,
      "outputs": []
    },
    {
      "cell_type": "code",
      "source": [
        "\n",
        "\n",
        "\n",
        "# Save the windowed data to a file in Google Drive\n",
        "\n",
        "try:\n",
        "  with open(save_path, 'wb') as f:\n",
        "    pickle.dump((window_x_train, window_y_train, window_x_dav, window_y_dav, window_x_test, window_y_test), f)\n",
        "    print(f\"Windowed data saved to: {save_path}\")\n",
        "except Exception as e:\n",
        "  print(f\"Error saving windowed data: {e}\")\n"
      ],
      "metadata": {
        "id": "LddFct3Hw3rP"
      },
      "execution_count": null,
      "outputs": []
    },
    {
      "cell_type": "code",
      "source": [],
      "metadata": {
        "id": "oac24Tu-0VRH"
      },
      "execution_count": null,
      "outputs": []
    }
  ]
}